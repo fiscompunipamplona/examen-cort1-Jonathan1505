{
 "cells": [
  {
   "cell_type": "markdown",
   "metadata": {},
   "source": [
    "# PARCIAL 1 CORTE\n",
    "### Jonathan Andres Mercado Chavarria \n",
    "1. Quitar la linea base \n",
    "2. Buscar el pico de cada pulso\n",
    "3. calcular la carga \n",
    "4. aplicar el criterio de \n",
    "\\begin{equation}\\frac{Q}{p}\\end{equation}\n",
    "5. Hallar el delta tiempo\n"
   ]
  },
  {
   "cell_type": "code",
   "execution_count": 11,
   "metadata": {},
   "outputs": [],
   "source": [
    "# Esta parte del codigo es para trabajar con la columna 1 lo cual en el trabajo se quitara la linea base de 50 ya hecho en los ejercicios anteriores y el tiempo \n",
    "\n",
    "import bz2\n",
    "from numpy import zeros\n",
    "from pylab import *\n",
    "\n",
    "n = 0\n",
    "lista=[]\n",
    "lista_deltiempo=[]\n",
    "#with bz2.open( input (\"Please, enter the filename: \"), \"rt\" ) as bz_file:\n",
    "\n",
    "with bz2.open(\"Chitaga_2016_08_12_12h00.dat.bz2\", \"rt\" ) as bz_file:\n",
    "\n",
    "     for line in bz_file:\n",
    "        rline = line.rstrip('\\n').split(' ')\n",
    "        if len(rline)==3:\n",
    "            if rline[0]==\"#\":\n",
    "                ln=0\n",
    "                #lista.append(int(rline[3]))\n",
    "            if rline[0]!=\"#\":\n",
    "                if ln >= 0: \n",
    "                 \n",
    "                    lista.append(int(rline[0])-50) #quitando la linea base  de 50 \n",
    "        if len(rline)==4:\n",
    "            if rline[0]==\"#\" and rline[1]== \"t\":\n",
    "                ln=0\n",
    "                lista_deltiempo.append(int(rline[3])) # creando la lista de tiempo\n",
    "                    \n",
    "               # else:\n",
    "                   # ln += 1                    \n",
    "            #print( rline[0],rline[1],rline[2],)\n",
    "            #print(\"lista\",lista)\n",
    "        n += 1\n",
    "        #if n == 91:\n",
    "           #break\n",
    "            "
   ]
  },
  {
   "cell_type": "code",
   "execution_count": 5,
   "metadata": {},
   "outputs": [
    {
     "name": "stdout",
     "output_type": "stream",
     "text": [
      " la longitud del el contador de tiempo 749617\n",
      "8995511 749617\n"
     ]
    }
   ],
   "source": [
    "#print(\"lista\",lista)\n",
    "#print(\" lista del contador del tiempo es: \", lista_deltiempo)\n",
    "print(\" la longitud del el contador de tiempo\", len(lista_deltiempo))\n",
    "print((len(lista)-9), int(len(lista_deltiempo)) )"
   ]
  },
  {
   "cell_type": "code",
   "execution_count": 34,
   "metadata": {},
   "outputs": [],
   "source": [
    "# todos los valores separados en 12 en 12 y en una sola lista\n",
    "# El siguiente codigo es para crear una lista con posiciones igual a la lista_deltiempo y este sea separado\n",
    "#12 en 12 en otras sublistas, esto quiere decir que se crea una lista mayor y con las posiciones estan otras listas \n",
    "#pero llena de 12 datos \n",
    "def funcion(n,r,m):\n",
    "    lista=[]\n",
    "    for i in range(r,m):\n",
    "        lista.append(n[i])\n",
    "    return(lista)\n",
    "n=0\n",
    "n1=12\n",
    "y1=int(len(lista)/12)-9\n",
    "#print(y1)\n",
    "tnuevo=[]\n",
    "for i in range(y1):\n",
    "    tnuevo.append(funcion(lista,n,n1))\n",
    "    \n",
    "    n=n+12\n",
    "    n1=n1+12\n",
    "#print(\"\\n lista que separa los pulsos 12 datos: \\n \",tnuevo)\n",
    "\n",
    "# Aqui miramos los valores maximos de cada posicion de esta lista o sea los picos \n",
    "Picos=[]\n",
    "for k in range(y1):\n",
    "    Picos.append(max(tnuevo[k]))\n",
    "#print(\"los valores maximos de picos son: \",Picos)\n",
    "#print(\"\\n la longitud de la lista de los picos: \\n\",len(Picos))\n",
    "# codigo es para hallar los picos maximos los cuales estos se guardan en una lista con una longitud igual a la lista_deltiempo\n",
    "# a la hora de imprimir la longitud de esta lista se dara cuentacon coiniciden con la 1 parte \n",
    "             \n"
   ]
  },
  {
   "cell_type": "code",
   "execution_count": 35,
   "metadata": {},
   "outputs": [
    {
     "name": "stdout",
     "output_type": "stream",
     "text": [
      " el valor maximo es :  9\n"
     ]
    }
   ],
   "source": [
    "# AHora aplicamos el criterio q/p\n",
    "# Hallemos el valor de cada Q  y lo guardaremos en una lista\n",
    "#Aqui en esta parte del codigo vamos a hallar el alor de la carga Q en este caso lo hacemos con la suma de 12 datos \n",
    "#en cada posición y que deseo que se guarde en las posiciones de esta lista \n",
    "def funcion(n,r,m):\n",
    "    lista=[]\n",
    "    x=0\n",
    "    for i in range(r,m):\n",
    "        x=x+n[i]\n",
    "    \n",
    "    return(x)\n",
    "n=0\n",
    "n1=12\n",
    "Q=[]\n",
    "for i in range(y1):\n",
    "    Q.append(funcion(lista,n,n1))\n",
    "    n=n+12\n",
    "    n1=n1+12\n",
    "    \n",
    "#print( \"\\n El valor de la carga  con valores con la linea base es: \\n \",Q)\n",
    "#print(\"la longitud del vector de la carga es: \",len(Q))\n",
    "\n",
    "\n",
    "#hallemos el valor Q/P: en esta parte del codigo se aplica el criterio este codigo consiste en pedir la lista Q Y picos\n",
    "# para si ver que señales se cumplen con este criterio  y ver que contadores de tiempo asociado  con estas señales se guardan\n",
    "#por eso la lista de tiempo\n",
    "qp=[]\n",
    "qpno=[]\n",
    "listadelttiem=[]\n",
    "for i in range(y1):\n",
    "    f=int(Q[i]/Picos[i])\n",
    "    if f > 1:\n",
    "        qp.append(f)\n",
    "        listadelttiem.append(lista_deltiempo[i])\n",
    "    else:\n",
    "        qpno.append(f)\n",
    "\n",
    "        \n",
    "#print(\"\\n Los siguientes valores en la lista son señales: \\n\",qp)\n",
    "#print(\"\\n la lista de contadores de tiempo que cumplen el criterio  anterior es: \\n\",listadelttiem)\n",
    "#print(\"\\n Los siguientes valores en la lista no son señales: \\n\",qpno)       \n",
    "print(\" el valor maximo es : \", max(qp))\n",
    "#plot(qp)\n",
    "#show()\n",
    "#print()"
   ]
  },
  {
   "cell_type": "code",
   "execution_count": 37,
   "metadata": {},
   "outputs": [
    {
     "data": {
      "image/png": "[encoded data removed]",
      "text/plain": [
       "<Figure size 432x288 with 1 Axes>"
      ]
     },
     "metadata": {
      "needs_background": "light"
     },
     "output_type": "display_data"
    }
   ],
   "source": [
    "\n",
    "#AQUI SE TRABAJA CON EL HISTOGRAMA  para el criterio Q/P\n",
    " #Histograma \n",
    "hist = [] # Array for histogram\n",
    "startBin = 0\n",
    "endBin = 32000000\n",
    "nbins = 320000\n",
    "binwidth = int((endBin - startBin) / nbins)\n",
    "\n",
    "[hist.append(0) for i in range(nbins)] # Inizialiting histo\n",
    "#print(len(hist))\n",
    "# Filling histogram\n",
    "for j in qp:\n",
    "    hist[ int((j)/binwidth) ] += 1\n",
    "\n",
    "\n",
    "\n",
    "bines=[]\n",
    "[bines.append((i)*binwidth) for i in range(nbins)]\n",
    "# Histograma del criterio q/p\n",
    "plot(bines, hist, 'o-')\n",
    "xlabel('Bines ')\n",
    "ylabel('Datos')\n",
    "#yscale('log')\n",
    "xlim(-100,100)\n",
    "show()"
   ]
  },
  {
   "cell_type": "code",
   "execution_count": 38,
   "metadata": {},
   "outputs": [
    {
     "name": "stdout",
     "output_type": "stream",
     "text": [
      "El valor maximo es:  31259296\n"
     ]
    },
    {
     "data": {
      "image/png": "[encoded data removed]",
      "text/plain": [
       "<Figure size 432x288 with 1 Axes>"
      ]
     },
     "metadata": {
      "needs_background": "light"
     },
     "output_type": "display_data"
    }
   ],
   "source": [
    "# Ahora se halla el delta tiempo\n",
    "# Aquí en este codigo se trabaja con la lista de tiempo anterior y comenzar a restar la posicion adelantada con la atrasada\n",
    "# y se toma solo los positivos\n",
    "y=len(listadelttiem)\n",
    "listadelta=[]\n",
    "for i in range(y):\n",
    "    if i+1 < y:\n",
    "        x=listadelttiem[i+1]-listadelttiem[i]\n",
    "        if x > 0 :\n",
    "        #print(x)\n",
    "            listadelta.append(x) #0.0010\n",
    "#print(\"\\n Los valores de la lista con la resta de los tiempos : \\n\", listadelta)\n",
    "print(\"El valor maximo es: \",max(listadelta))\n",
    "#print(\"El valor minimo es: \",min(listadelta))\n",
    "plot(listadelta)\n",
    "show()\n"
   ]
  },
  {
   "cell_type": "code",
   "execution_count": 39,
   "metadata": {},
   "outputs": [
    {
     "data": {
      "image/png": "[encoded data removed]",
      "text/plain": [
       "<Figure size 432x288 with 1 Axes>"
      ]
     },
     "metadata": {
      "needs_background": "light"
     },
     "output_type": "display_data"
    }
   ],
   "source": [
    "#Hallemos el  histograma para el delta de tiempo\n",
    " #Histograma \n",
    "hist1 = [] # Array for histogram\n",
    "startBin = 0\n",
    "endBin = 32000000\n",
    "nbins = 320000\n",
    "binwidth = int((endBin - startBin) / nbins)\n",
    "\n",
    "[hist1.append(0) for i in range(nbins)] # Inizialiting histo\n",
    "#print(len(hist1))\n",
    "# Filling histogram\n",
    "for j in listadelta :\n",
    "    hist1[ int((j)/binwidth) ] += 1\n",
    "\n",
    "\n",
    "\n",
    "bines1=[]\n",
    "[bines1.append((i)*binwidth) for i in range(nbins)]\n",
    "# Histograma del criterio q/p\n",
    "plot(bines1, hist1, 'o-')\n",
    "xlabel('Bines ')\n",
    "ylabel('Datos')\n",
    "#yscale('log')\n",
    "xlim(-100,5000)\n",
    "#ylim(1000,)\n",
    "show()\n"
   ]
  },
  {
   "cell_type": "markdown",
   "metadata": {},
   "source": [
    "## Explicación\n"
   ]
  },
  {
   "cell_type": "markdown",
   "metadata": {},
   "source": [
    "1.En la 1 parte se quito la linea base que en este caso es 50 ya dectetado por los ejercicios anteriores hecho en clase y además se creo en una lista con esta nueva base, luego una lista de tiempo asociado con los contadores.\n",
    "\n",
    "2.Ya resuelta la parte de los picos para cada pulso, estos picos maximos son mostrado sin el ruido  y se ven más claramente para trabajar\n",
    "\n",
    "3.Se halla la carga para cada pulso dado por la formula siguiente  Q= \\sum v(i), se aplica esto en nuestro codigo para hallar la carga para cada pulso \n",
    "\n",
    "4.luego se aplica el criterio Q/P pero para comparar con mayor con 1  y tomar , que pulso cumple el criterio anterior y guardarlo en una lista como se muestar en el codigo\n",
    "\n",
    "5.En nuestro histograma del criterio Q/P  vemos que se presenta valores cercanos mayores de 1 hasta 9 eso muestra el histograma\n",
    "\n",
    "6.luego hallemos el delta tiempo en nuestro histograma que muestra el tiempo es casi parecido a los valor maximo de la lista"
   ]
  },
  {
   "cell_type": "code",
   "execution_count": null,
   "metadata": {},
   "outputs": [],
   "source": []
  }
 ],
 "metadata": {
  "kernelspec": {
   "display_name": "Python 3",
   "language": "python",
   "name": "python3"
  },
  "language_info": {
   "codemirror_mode": {
    "name": "ipython",
    "version": 3
   },
   "file_extension": ".py",
   "mimetype": "text/x-python",
   "name": "python",
   "nbconvert_exporter": "python",
   "pygments_lexer": "ipython3",
   "version": "3.5.2"
  }
 },
 "nbformat": 4,
 "nbformat_minor": 2
}
